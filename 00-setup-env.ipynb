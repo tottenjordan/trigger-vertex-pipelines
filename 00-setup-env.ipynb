{
 "cells": [
  {
   "cell_type": "markdown",
   "id": "27919702-fd15-4f7d-a8f6-231faaf26e34",
   "metadata": {},
   "source": [
    "# Environment Setup for triggering Vertex Pipelines\n",
    "\n",
    "## Install Packages\n",
    "Run pip requirements.txt in either (1) the notebook cell below or (2) in a notebook terminal window"
   ]
  },
  {
   "cell_type": "code",
   "execution_count": 1,
   "id": "5b23cf1e-41bd-41e9-8dd4-3f68941e9e15",
   "metadata": {},
   "outputs": [
    {
     "name": "stdout",
     "output_type": "stream",
     "text": [
      "/home/jupyter/trigger-vertex-pipelines\n"
     ]
    }
   ],
   "source": [
    "!pwd"
   ]
  },
  {
   "cell_type": "code",
   "execution_count": 2,
   "id": "6af0316d-1d95-46ca-acb3-10d6cad0d8b5",
   "metadata": {},
   "outputs": [],
   "source": [
    "import os\n",
    "\n",
    "# The Vertex AI Workbench Notebook product has specific requirements\n",
    "IS_WORKBENCH_NOTEBOOK = os.getenv(\"DL_ANACONDA_HOME\")\n",
    "IS_USER_MANAGED_WORKBENCH_NOTEBOOK = os.path.exists(\n",
    "    \"/opt/deeplearning/metadata/env_version\"\n",
    ")\n",
    "\n",
    "# Vertex AI Notebook requires dependencies to be installed with '--user'\n",
    "USER_FLAG = \"\"\n",
    "if IS_WORKBENCH_NOTEBOOK:\n",
    "    USER_FLAG = \"--user\"\n",
    "\n",
    "# !pip install --no-cache-dir -r ./requirements.txt --user -q"
   ]
  },
  {
   "cell_type": "markdown",
   "id": "a7a22506-9c61-4f75-86f1-ff925bcfcbe6",
   "metadata": {},
   "source": [
    "#### check package installs"
   ]
  },
  {
   "cell_type": "code",
   "execution_count": 3,
   "id": "2657a2e7-0cb4-41a3-b25f-8b8bffa94246",
   "metadata": {},
   "outputs": [
    {
     "name": "stdout",
     "output_type": "stream",
     "text": [
      "KFP SDK version: 2.3.0\n",
      "google-cloud-aiplatform==1.34.0\n"
     ]
    }
   ],
   "source": [
    "! python3 -c \"import kfp; print('KFP SDK version: {}'.format(kfp.__version__))\"\n",
    "! pip3 freeze | grep aiplatform"
   ]
  },
  {
   "cell_type": "markdown",
   "id": "974ede0b-3e91-4ee0-84db-b92c441a3c81",
   "metadata": {},
   "source": [
    "# Set vars"
   ]
  },
  {
   "cell_type": "code",
   "execution_count": 4,
   "id": "3727915c-8770-47c4-84c3-79ba55f744ec",
   "metadata": {},
   "outputs": [
    {
     "name": "stdout",
     "output_type": "stream",
     "text": [
      "PREFIX = pipe-triggers-v1\n"
     ]
    }
   ],
   "source": [
    "# naming convention for all cloud resources\n",
    "VERSION        = \"v1\"                         # TODO - @ param {type:\"string\"}\n",
    "PREFIX         = f'pipe-triggers-{VERSION}'   # TODO - @ param {type:\"string\"}\n",
    "\n",
    "print(f\"PREFIX = {PREFIX}\")"
   ]
  },
  {
   "cell_type": "markdown",
   "id": "87a929e8-c597-46a5-8e51-96089951dd2b",
   "metadata": {},
   "source": [
    "### GCP project"
   ]
  },
  {
   "cell_type": "markdown",
   "id": "f9e5d027-a8b5-4bd6-90c4-dc008771e858",
   "metadata": {},
   "source": [
    "See the support page: [Locate the project ID](https://support.google.com/googleapi/answer/7014113)"
   ]
  },
  {
   "cell_type": "code",
   "execution_count": 5,
   "id": "2586e244-cbe6-4741-85c2-dcae54fc0ed1",
   "metadata": {},
   "outputs": [
    {
     "name": "stdout",
     "output_type": "stream",
     "text": [
      "PROJECT_ID      = hybrid-vertex\n",
      "PROJECT_NUM     = 934903580331\n",
      "SERVICE_ACCOUNT = 934903580331-compute@developer.gserviceaccount.com\n"
     ]
    }
   ],
   "source": [
    "# creds, PROJECT_ID = google.auth.default()\n",
    "GCP_PROJECTS            = !gcloud config get-value project\n",
    "PROJECT_ID              = GCP_PROJECTS[0]\n",
    "\n",
    "PROJECT_NUM             = !gcloud projects describe $PROJECT_ID --format=\"value(projectNumber)\"\n",
    "PROJECT_NUM             = PROJECT_NUM[0]\n",
    "\n",
    "SERVICE_ACCOUNT         = f'{PROJECT_NUM}-compute@developer.gserviceaccount.com'\n",
    "\n",
    "print(f\"PROJECT_ID      = {PROJECT_ID}\")\n",
    "print(f\"PROJECT_NUM     = {PROJECT_NUM}\")\n",
    "print(f\"SERVICE_ACCOUNT = {SERVICE_ACCOUNT}\")"
   ]
  },
  {
   "cell_type": "code",
   "execution_count": 6,
   "id": "e0d035a8-df03-4c3c-b27a-88dd1cf85d8c",
   "metadata": {},
   "outputs": [
    {
     "name": "stdout",
     "output_type": "stream",
     "text": [
      "Updated property [core/project].\n"
     ]
    }
   ],
   "source": [
    "# Set the project id\n",
    "! gcloud config set project {PROJECT_ID}"
   ]
  },
  {
   "cell_type": "markdown",
   "id": "c2d870de-89fd-42fd-ad69-9e7dfa7d09d5",
   "metadata": {},
   "source": [
    "#### enable GCP services"
   ]
  },
  {
   "cell_type": "code",
   "execution_count": 7,
   "id": "c44d3529-70bc-4ce9-b84b-4c704296ba10",
   "metadata": {},
   "outputs": [],
   "source": [
    "# !gcloud services enable pubsub.googleapis.com\n",
    "# !gcloud services enable run.googleapis.com"
   ]
  },
  {
   "cell_type": "markdown",
   "id": "691d4b36-248b-4d17-a7b0-ff65a0684511",
   "metadata": {},
   "source": [
    "### Edit these "
   ]
  },
  {
   "cell_type": "code",
   "execution_count": 8,
   "id": "bffb3205-3382-4aba-83e2-e683878a8a60",
   "metadata": {},
   "outputs": [
    {
     "name": "stdout",
     "output_type": "stream",
     "text": [
      "VPC_NETWORK_NAME = ucaip-haystack-vpc-network\n",
      "REGION           = us-central1\n",
      "BQ_REGION        = US\n"
     ]
    }
   ],
   "source": [
    "# gcp IAM & Networking\n",
    "VPC_NETWORK_NAME         = \"ucaip-haystack-vpc-network\"\n",
    "\n",
    "# locations / regions for cloud resources\n",
    "REGION                   = \"us-central1\"\n",
    "BQ_REGION                = REGION.split(\"-\")[0].upper()\n",
    "\n",
    "print(f\"VPC_NETWORK_NAME = {VPC_NETWORK_NAME}\")\n",
    "print(f\"REGION           = {REGION}\")\n",
    "print(f\"BQ_REGION        = {BQ_REGION}\")"
   ]
  },
  {
   "cell_type": "markdown",
   "id": "d967c642-85f4-43fd-80f2-d16da01b55ba",
   "metadata": {},
   "source": [
    "### Resource names for this tutorial"
   ]
  },
  {
   "cell_type": "code",
   "execution_count": 9,
   "id": "f2c94123-59d3-4796-bc7c-f0c137a7a312",
   "metadata": {},
   "outputs": [
    {
     "name": "stdout",
     "output_type": "stream",
     "text": [
      "BUCKET_URI       : gs://pipe-triggers-v1-hybrid-vertex\n",
      "VPC_NETWORK_FULL : projects/934903580331/global/networks/ucaip-haystack-vpc-network\n",
      "TOPIC_ID         : pipe-triggers-v1-topic\n"
     ]
    }
   ],
   "source": [
    "# gcs \n",
    "BUCKET_NAME      = f\"{PREFIX}-{PROJECT_ID}\"\n",
    "BUCKET_URI       = f\"gs://{BUCKET_NAME}\"\n",
    "\n",
    "# networking \n",
    "VPC_NETWORK_FULL = f\"projects/{PROJECT_NUM}/global/networks/{VPC_NETWORK_NAME}\"\n",
    "\n",
    "# PubSub topic - for triggering\n",
    "TOPIC_ID         = f\"{PREFIX}-topic\"\n",
    "\n",
    "print(f\"BUCKET_URI       : {BUCKET_URI}\")\n",
    "print(f\"VPC_NETWORK_FULL : {VPC_NETWORK_FULL}\")\n",
    "print(f\"TOPIC_ID         : {TOPIC_ID}\")"
   ]
  },
  {
   "cell_type": "code",
   "execution_count": 10,
   "id": "96874bf6-aed7-4472-a65a-d77e9d84636b",
   "metadata": {},
   "outputs": [
    {
     "name": "stdout",
     "output_type": "stream",
     "text": [
      "DATASET_ID      : census_pipe_triggers_v1\n",
      "VIEW_NAME       : census_data\n",
      "BQ_LOG_DATA_URI : hybrid-vertex.census_pipe_triggers_v1.census_training_table\n"
     ]
    }
   ],
   "source": [
    "# bigquery\n",
    "DATASET_ID       = f\"census_{PREFIX}\".replace(\"-\",\"_\")  # The Data Set ID where the view sits\n",
    "VIEW_NAME        = \"census_data\"                        # BigQuery view you create for input data\n",
    "BQ_LOG_TABLE     = \"census_training_table\"\n",
    "\n",
    "BQ_LOG_DATA_URI  = f'{PROJECT_ID}.{DATASET_ID}.{BQ_LOG_TABLE}'\n",
    "\n",
    "print(f\"DATASET_ID      : {DATASET_ID}\")\n",
    "print(f\"VIEW_NAME       : {VIEW_NAME}\")\n",
    "print(f\"BQ_LOG_DATA_URI : {BQ_LOG_DATA_URI}\")"
   ]
  },
  {
   "cell_type": "code",
   "execution_count": 11,
   "id": "c5fd6ce9-c1b0-45d5-aaf8-1c9b7b840c8b",
   "metadata": {},
   "outputs": [
    {
     "name": "stdout",
     "output_type": "stream",
     "text": [
      "PIPELINE_DISPLAY_NAME  : census-pipe-triggers-v1\n",
      "PIPELINE_ROOT_PATH     : gs://pipe-triggers-v1-hybrid-vertex/census_pipeline_root\n",
      "PIPELINE_YAML_FILENAME : pipeline.yaml\n",
      "PIPELINES_FILEPATH     : gs://pipe-triggers-v1-hybrid-vertex/census_pipeline_root/pipeline-spec/pipeline.yaml\n"
     ]
    }
   ],
   "source": [
    "# pipelines\n",
    "PIPELINE_DISPLAY_NAME  = f\"census-{PREFIX}\"\n",
    "\n",
    "# This is where all pipeline artifacts are sent\n",
    "PIPELINE_YAML_FILENAME = \"pipeline.yaml\"\n",
    "PIPELINE_ROOT_PATH     = f\"{BUCKET_URI}/census_pipeline_root\"\n",
    "PIPELINES_FILEPATH     = f'{PIPELINE_ROOT_PATH}/pipeline-spec/{PIPELINE_YAML_FILENAME}'\n",
    "\n",
    "print(f\"PIPELINE_DISPLAY_NAME  : {PIPELINE_DISPLAY_NAME}\")\n",
    "print(f\"PIPELINE_ROOT_PATH     : {PIPELINE_ROOT_PATH}\")\n",
    "print(f\"PIPELINE_YAML_FILENAME : {PIPELINE_YAML_FILENAME}\")\n",
    "print(f\"PIPELINES_FILEPATH     : {PIPELINES_FILEPATH}\")"
   ]
  },
  {
   "cell_type": "markdown",
   "id": "955de122-33f7-4e23-8e26-99f00f593ea5",
   "metadata": {},
   "source": [
    "# Create Cloud Resources"
   ]
  },
  {
   "cell_type": "markdown",
   "id": "84f362fc-a776-4143-bb2e-19160fc8bdd2",
   "metadata": {},
   "source": [
    "#### GCS bucket"
   ]
  },
  {
   "cell_type": "code",
   "execution_count": 13,
   "id": "34cc0ee0-f22b-481a-85d4-66d7da630f3c",
   "metadata": {},
   "outputs": [
    {
     "name": "stdout",
     "output_type": "stream",
     "text": [
      "Creating gs://pipe-triggers-v1-hybrid-vertex/...\n"
     ]
    }
   ],
   "source": [
    "! gsutil mb -l $REGION -p $PROJECT_ID $BUCKET_URI"
   ]
  },
  {
   "cell_type": "code",
   "execution_count": 14,
   "id": "7ae237b9-3de2-4ef9-a5bf-8ddb836ff1c5",
   "metadata": {},
   "outputs": [],
   "source": [
    "# grant SA permissions to GCS\n",
    "\n",
    "! gsutil iam ch serviceAccount:{SERVICE_ACCOUNT}:roles/storage.objectCreator $BUCKET_URI\n",
    "\n",
    "! gsutil iam ch serviceAccount:{SERVICE_ACCOUNT}:roles/storage.objectViewer $BUCKET_URI"
   ]
  },
  {
   "cell_type": "markdown",
   "id": "82f7c192-b25d-43a5-8443-5dce41d91602",
   "metadata": {},
   "source": [
    "#### BigQuery dataset and tables"
   ]
  },
  {
   "cell_type": "code",
   "execution_count": 15,
   "id": "77f73672-3866-42cf-8527-44f651f2e61f",
   "metadata": {},
   "outputs": [
    {
     "name": "stdout",
     "output_type": "stream",
     "text": [
      "Dataset 'hybrid-vertex:census_pipe_triggers_v1' successfully created.\n"
     ]
    }
   ],
   "source": [
    "!bq mk --location=$BQ_REGION --dataset $PROJECT_ID:$DATASET_ID"
   ]
  },
  {
   "cell_type": "code",
   "execution_count": 12,
   "id": "6c2729a1-6f09-4baf-9337-88ceecac2ca2",
   "metadata": {},
   "outputs": [],
   "source": [
    "import pandas as pd\n",
    "from google.cloud import bigquery"
   ]
  },
  {
   "cell_type": "code",
   "execution_count": 13,
   "id": "9ea2ead1-532c-4aef-b245-52d51a870d08",
   "metadata": {},
   "outputs": [],
   "source": [
    "bq_client = bigquery.Client(\n",
    "    project=PROJECT_ID,\n",
    "    location=BQ_REGION\n",
    ")\n",
    "\n",
    "BQ_PUBLIC_DS_URI = 'bigquery-public-data.ml_datasets.census_adult_income'"
   ]
  },
  {
   "cell_type": "code",
   "execution_count": 26,
   "id": "7711eab1-b2e4-48d1-a355-b1306017e575",
   "metadata": {},
   "outputs": [
    {
     "name": "stdout",
     "output_type": "stream",
     "text": [
      "\n",
      "CREATE OR REPLACE TABLE `hybrid-vertex.census_pipe_triggers_v1.census_training_table` AS (\n",
      "   SELECT * FROM `bigquery-public-data.ml_datasets.census_adult_income` \n",
      "   LIMIT 1000\n",
      ")\n",
      "\n"
     ]
    }
   ],
   "source": [
    "query = f\"\"\"\n",
    "CREATE OR REPLACE TABLE `{BQ_LOG_DATA_URI}` AS (\n",
    "   SELECT * FROM `{BQ_PUBLIC_DS_URI}` \n",
    "   LIMIT 1000\n",
    ")\n",
    "\"\"\"\n",
    "print(query)"
   ]
  },
  {
   "cell_type": "code",
   "execution_count": 27,
   "id": "f233692c-7c51-4500-8977-e6a48ee9c29f",
   "metadata": {},
   "outputs": [
    {
     "name": "stdout",
     "output_type": "stream",
     "text": [
      "CPU times: user 8 ms, sys: 3.19 ms, total: 11.2 ms\n",
      "Wall time: 2.64 s\n"
     ]
    },
    {
     "data": {
      "text/plain": [
       "<google.cloud.bigquery.table._EmptyRowIterator at 0x7f7a6d004fd0>"
      ]
     },
     "execution_count": 27,
     "metadata": {},
     "output_type": "execute_result"
    }
   ],
   "source": [
    "%%time\n",
    "bq_client.query(query).result()"
   ]
  },
  {
   "cell_type": "code",
   "execution_count": 28,
   "id": "dfc5e2ca-f631-4a2e-acc1-2ba76ac0b8b9",
   "metadata": {},
   "outputs": [
    {
     "data": {
      "text/plain": [
       "1000"
      ]
     },
     "execution_count": 28,
     "metadata": {},
     "output_type": "execute_result"
    }
   ],
   "source": [
    "data_table = bq_client.get_table(f\"{BQ_LOG_DATA_URI}\")\n",
    "\n",
    "current_rows = data_table.num_rows\n",
    "current_rows"
   ]
  },
  {
   "cell_type": "markdown",
   "id": "def8431e-8ecb-44d0-9849-febaad0729c3",
   "metadata": {},
   "source": [
    "### Create PubSub Topic\n",
    "\n",
    "* see [Create a Topic](https://cloud.google.com/pubsub/docs/create-topic#create_a_topic_2) for details"
   ]
  },
  {
   "cell_type": "code",
   "execution_count": 16,
   "id": "8ec342e8-5123-40bd-9e21-c77732c4bd56",
   "metadata": {},
   "outputs": [],
   "source": [
    "from google.cloud import pubsub_v1"
   ]
  },
  {
   "cell_type": "code",
   "execution_count": 17,
   "id": "5ed4ef22-d1d3-4b97-a702-86fcb45dbc68",
   "metadata": {},
   "outputs": [],
   "source": [
    "publisher_client = pubsub_v1.PublisherClient()\n",
    "\n",
    "TOPIC_PATH       = publisher_client.topic_path(PROJECT_ID, TOPIC_ID)\n",
    "\n",
    "PUBSUB_TOPIC     = publisher_client.create_topic(request={\"name\": TOPIC_PATH})\n",
    "\n",
    "print(f\"Created topic: {PUBSUB_TOPIC.name}\")"
   ]
  },
  {
   "cell_type": "code",
   "execution_count": 51,
   "id": "69410272-c129-4bcb-a9d0-eb9f456047f3",
   "metadata": {},
   "outputs": [],
   "source": [
    "# ! gcloud pubsub topics list"
   ]
  },
  {
   "cell_type": "markdown",
   "id": "8ec4488f-6b6d-46f3-971a-0612128bb8c9",
   "metadata": {},
   "source": [
    "### Create PubSub subscription\n",
    "\n",
    "> Note: Cloud Functions [automatically creates push subscriptions](https://cloud.google.com/functions/docs/tutorials/pubsub) that forward messages from the specified topic to your function, even within a VPC Service Controls environment.\n",
    "\n",
    "* see [Create a Push Subscription](https://cloud.google.com/pubsub/docs/create-push-subscription) for more details"
   ]
  },
  {
   "cell_type": "code",
   "execution_count": null,
   "id": "94da500d-3c2a-44b0-a38c-d26ea848dbf2",
   "metadata": {},
   "outputs": [],
   "source": [
    "# from google.cloud import pubsub_v1\n",
    "\n",
    "# # TODO(developer)\n",
    "# # project_id = \"your-project-id\"\n",
    "# # topic_id = \"your-topic-id\"\n",
    "# # subscription_id = \"your-subscription-id\"\n",
    "# # endpoint = \"https://my-test-project.appspot.com/push\"\n",
    "\n",
    "# publisher = pubsub_v1.PublisherClient()\n",
    "# subscriber = pubsub_v1.SubscriberClient()\n",
    "# topic_path = publisher.topic_path(project_id, topic_id)\n",
    "# subscription_path = subscriber.subscription_path(project_id, subscription_id)\n",
    "\n",
    "# push_config = pubsub_v1.types.PushConfig(push_endpoint=endpoint)\n",
    "\n",
    "# # Wrap the subscriber in a 'with' block to automatically call close() to\n",
    "# # close the underlying gRPC channel when done.\n",
    "# with subscriber:\n",
    "#     subscription = subscriber.create_subscription(\n",
    "#         request={\n",
    "#             \"name\": subscription_path,\n",
    "#             \"topic\": topic_path,\n",
    "#             \"push_config\": push_config,\n",
    "#         }\n",
    "#     )\n",
    "\n",
    "# print(f\"Push subscription created: {subscription}.\")\n",
    "# print(f\"Endpoint for subscription is: {endpoint}\")"
   ]
  },
  {
   "cell_type": "markdown",
   "id": "6edd4623-be65-48ce-a4fb-e6ca8addb067",
   "metadata": {},
   "source": [
    "## Save Notebook Configuration Data\n",
    "\n",
    "If you want to avoid having to re-enter these across notebooks"
   ]
  },
  {
   "cell_type": "code",
   "execution_count": 19,
   "id": "8f3a1aaf-b223-411f-8a66-4a969a4c0790",
   "metadata": {},
   "outputs": [
    {
     "name": "stdout",
     "output_type": "stream",
     "text": [
      "\n",
      "PROJECT_ID             = \"hybrid-vertex\"\n",
      "PROJECT_NUM            = \"934903580331\"\n",
      "\n",
      "REGION                 = \"us-central1\"\n",
      "BQ_REGION              = \"US\"\n",
      "BQ_PUBLIC_DS_URI       = \"bigquery-public-data.ml_datasets.census_adult_income\"\n",
      "DATASET_ID             = \"census_pipe_triggers_v1\"\n",
      "VIEW_NAME              = \"census_data\"\n",
      "BQ_LOG_DATA_URI        = \"hybrid-vertex.census_pipe_triggers_v1.census_training_table\"\n",
      "\n",
      "VPC_NETWORK_NAME       = \"ucaip-haystack-vpc-network\"\n",
      "VPC_NETWORK_FULL       = \"projects/934903580331/global/networks/ucaip-haystack-vpc-network\"\n",
      "\n",
      "SERVICE_ACCOUNT        = \"934903580331-compute@developer.gserviceaccount.com\"\n",
      "\n",
      "VERSION                = \"v1\"\n",
      "PREFIX                 = \"pipe-triggers-v1\"\n",
      "\n",
      "BUCKET_NAME            = \"pipe-triggers-v1-hybrid-vertex\"\n",
      "BUCKET_URI             = \"gs://pipe-triggers-v1-hybrid-vertex\"\n",
      "\n",
      "TOPIC_PATH             = \"projects/hybrid-vertex/topics/pipe-triggers-v1-topic\"\n",
      "PUBSUB_TOPIC           = \"projects/hybrid-vertex/topics/pipe-triggers-v1-topic\"\n",
      "\n",
      "PIPELINE_DISPLAY_NAME  = \"census-pipe-triggers-v1\"\n",
      "PIPELINE_ROOT_PATH     = \"gs://pipe-triggers-v1-hybrid-vertex/census_pipeline_root\"\n",
      "PIPELINE_YAML_FILENAME = \"pipeline.yaml\"\n",
      "PIPELINES_FILEPATH     = \"gs://pipe-triggers-v1-hybrid-vertex/census_pipeline_root/pipeline-spec/pipeline.yaml\"\n",
      "\n"
     ]
    }
   ],
   "source": [
    "config = f\"\"\"\n",
    "PROJECT_ID             = \\\"{PROJECT_ID}\\\"\n",
    "PROJECT_NUM            = \\\"{PROJECT_NUM}\\\"\n",
    "\n",
    "REGION                 = \\\"{REGION}\\\"\n",
    "BQ_REGION              = \\\"{BQ_REGION}\\\"\n",
    "BQ_PUBLIC_DS_URI       = \\\"{BQ_PUBLIC_DS_URI}\\\"\n",
    "DATASET_ID             = \\\"{DATASET_ID}\\\"\n",
    "VIEW_NAME              = \\\"{VIEW_NAME}\\\"\n",
    "BQ_LOG_DATA_URI        = \\\"{BQ_LOG_DATA_URI}\\\"\n",
    "\n",
    "VPC_NETWORK_NAME       = \\\"{VPC_NETWORK_NAME}\\\"\n",
    "VPC_NETWORK_FULL       = \\\"{VPC_NETWORK_FULL}\\\"\n",
    "\n",
    "SERVICE_ACCOUNT        = \\\"{SERVICE_ACCOUNT}\\\"\n",
    "\n",
    "VERSION                = \\\"{VERSION}\\\"\n",
    "PREFIX                 = \\\"{PREFIX}\\\"\n",
    "\n",
    "BUCKET_NAME            = \\\"{BUCKET_NAME}\\\"\n",
    "BUCKET_URI             = \\\"{BUCKET_URI}\\\"\n",
    "\n",
    "TOPIC_PATH             = \\\"{TOPIC_PATH}\\\"\n",
    "PUBSUB_TOPIC           = \\\"{PUBSUB_TOPIC.name}\\\"\n",
    "\n",
    "PIPELINE_DISPLAY_NAME  = \\\"{PIPELINE_DISPLAY_NAME}\\\"\n",
    "PIPELINE_ROOT_PATH     = \\\"{PIPELINE_ROOT_PATH}\\\"\n",
    "PIPELINE_YAML_FILENAME = \\\"{PIPELINE_YAML_FILENAME}\\\"\n",
    "PIPELINES_FILEPATH     = \\\"{PIPELINES_FILEPATH}\\\"\n",
    "\"\"\"\n",
    "print(config)"
   ]
  },
  {
   "cell_type": "code",
   "execution_count": 20,
   "id": "28e2086d-6dde-4405-ada7-6537e4f9a605",
   "metadata": {},
   "outputs": [
    {
     "name": "stdout",
     "output_type": "stream",
     "text": [
      "Copying from <STDIN>...\n",
      "/ [1 files][    0.0 B/    0.0 B]                                                \n",
      "Operation completed over 1 objects.                                              \n"
     ]
    }
   ],
   "source": [
    "!echo '{config}' | gsutil cp - {BUCKET_URI}/config/notebook_env.py"
   ]
  },
  {
   "cell_type": "code",
   "execution_count": 21,
   "id": "9860bc9d-e01a-4bfa-a80a-3336a003635b",
   "metadata": {},
   "outputs": [
    {
     "name": "stdout",
     "output_type": "stream",
     "text": [
      "gs://pipe-triggers-v1-hybrid-vertex/census_pipeline_root/\n",
      "gs://pipe-triggers-v1-hybrid-vertex/config/\n"
     ]
    }
   ],
   "source": [
    "!gsutil ls $BUCKET_URI"
   ]
  },
  {
   "cell_type": "markdown",
   "id": "fcc50a2c-a07b-435b-aa61-ff4d234892ea",
   "metadata": {},
   "source": [
    "#### write config to py file"
   ]
  },
  {
   "cell_type": "code",
   "execution_count": 40,
   "id": "fb860b2d-f494-465f-954f-09dd1163d7dc",
   "metadata": {},
   "outputs": [
    {
     "name": "stdout",
     "output_type": "stream",
     "text": [
      "/home/jupyter/pipe-triggers\n"
     ]
    }
   ],
   "source": [
    "!pwd"
   ]
  },
  {
   "cell_type": "code",
   "execution_count": null,
   "id": "4630bd37-09c8-4734-914c-99f40dfb03c0",
   "metadata": {},
   "outputs": [],
   "source": [
    "CF_DIR = \"cloud_function\"\n",
    "\n",
    "# !mkdir CF_DIR "
   ]
  },
  {
   "cell_type": "code",
   "execution_count": 41,
   "id": "5be7d386-5c1e-44cc-a536-e75adf447ec1",
   "metadata": {},
   "outputs": [],
   "source": [
    "with open(f'{CF_DIR}/env_config.py', 'w') as f:\n",
    "    f.write(config)"
   ]
  },
  {
   "cell_type": "code",
   "execution_count": 42,
   "id": "6544644d-99c7-41fb-98d5-941262b740da",
   "metadata": {},
   "outputs": [
    {
     "data": {
      "text/plain": [
       "'census-pipe-triggers-v1'"
      ]
     },
     "execution_count": 42,
     "metadata": {},
     "output_type": "execute_result"
    }
   ],
   "source": [
    "from cloud_function import env_config as env_config\n",
    "\n",
    "env_config.PIPELINE_DISPLAY_NAME"
   ]
  },
  {
   "cell_type": "markdown",
   "id": "38840cbd-a471-467b-b041-d81be146af1f",
   "metadata": {},
   "source": [
    "### git ignore"
   ]
  },
  {
   "cell_type": "code",
   "execution_count": 30,
   "id": "847f4fa2-5cf6-4f5f-a189-2c287ee96f4f",
   "metadata": {},
   "outputs": [
    {
     "name": "stdout",
     "output_type": "stream",
     "text": [
      "Overwriting .gitignore\n"
     ]
    }
   ],
   "source": [
    "%%writefile .gitignore\n",
    "*.cpython-310.pyc\n",
    "*checkpoint*\n",
    "*.ipynb_checkpoints/*\n",
    "*WIP*\n",
    "*keep-local*\n",
    "# .gcloudignore\n",
    "# .git\n",
    "# .github\n",
    "*__pycache__\n",
    "# *cpython-37.pyc\n",
    "# .gitignore\n",
    "# .DS_Store"
   ]
  },
  {
   "cell_type": "markdown",
   "id": "1fca0563-a28e-47e5-9b94-da8f9d760a3c",
   "metadata": {},
   "source": [
    "### gcloud ignore"
   ]
  },
  {
   "cell_type": "code",
   "execution_count": 23,
   "id": "5c8d40e6-ecab-4db7-a8bf-a843febe9207",
   "metadata": {},
   "outputs": [
    {
     "name": "stdout",
     "output_type": "stream",
     "text": [
      "Updated property [gcloudignore/enabled].\n"
     ]
    }
   ],
   "source": [
    "! gcloud config set gcloudignore/enabled true"
   ]
  },
  {
   "cell_type": "code",
   "execution_count": 28,
   "id": "f1efd599-ab6d-4c5a-a8ef-1084897a3c11",
   "metadata": {},
   "outputs": [
    {
     "name": "stdout",
     "output_type": "stream",
     "text": [
      "Overwriting .gcloudignore\n"
     ]
    }
   ],
   "source": [
    "%%writefile .gcloudignore\n",
    "*__pycache__\n",
    "*.ipynb_checkpoints/*\n",
    "*.ipynb\n",
    ".gcloudignore\n",
    "*.git\n",
    "*.gitignore\n",
    "*.md"
   ]
  },
  {
   "cell_type": "code",
   "execution_count": 29,
   "id": "52b8b475-01c8-4de1-a675-4a3a178ba004",
   "metadata": {},
   "outputs": [
    {
     "name": "stdout",
     "output_type": "stream",
     "text": [
      "pipeline.yaml\n",
      "requirements.txt\n",
      "cloud_function/env_config.py\n",
      "cloud_function/main.py\n",
      "cloud_function/requirements.txt\n"
     ]
    }
   ],
   "source": [
    "# check eligble files\n",
    "!gcloud meta list-files-for-upload"
   ]
  },
  {
   "cell_type": "markdown",
   "id": "f873f52f-0d27-4ce2-9916-39ae7f3e8968",
   "metadata": {},
   "source": [
    "### Delete `__pycache__` directories"
   ]
  },
  {
   "cell_type": "code",
   "execution_count": 54,
   "id": "2ae99247-1b15-4914-bc26-116bb2dbb56e",
   "metadata": {},
   "outputs": [
    {
     "name": "stdout",
     "output_type": "stream",
     "text": [
      "copy these commands into terminal:\n",
      "\n",
      "find . | grep -E \"(/__pycache__$|\\.pyc$|\\.pyo$)\"\n",
      "find . | grep -E \"(/__pycache__$|\\.pyc$|\\.pyo$)\" | xargs rm -rf\n"
     ]
    }
   ],
   "source": [
    "LIST_CMD = 'find . | grep -E \"(/__pycache__$|\\.pyc$|\\.pyo$)\"'\n",
    "DELETE_CMD = 'find . | grep -E \"(/__pycache__$|\\.pyc$|\\.pyo$)\" | xargs rm -rf'\n",
    "\n",
    "# set variables if running in terminal\n",
    "print(\"copy these commands into terminal:\\n\")\n",
    "print(f\"{LIST_CMD}\")\n",
    "print(f\"{DELETE_CMD}\")"
   ]
  },
  {
   "cell_type": "markdown",
   "id": "d14781d4-a1a0-4d30-b063-89a2640435d2",
   "metadata": {},
   "source": [
    "**Finished**"
   ]
  }
 ],
 "metadata": {
  "environment": {
   "kernel": "python3",
   "name": "common-cpu.m106",
   "type": "gcloud",
   "uri": "gcr.io/deeplearning-platform-release/base-cpu:m106"
  },
  "kernelspec": {
   "display_name": "Python 3",
   "language": "python",
   "name": "python3"
  },
  "language_info": {
   "codemirror_mode": {
    "name": "ipython",
    "version": 3
   },
   "file_extension": ".py",
   "mimetype": "text/x-python",
   "name": "python",
   "nbconvert_exporter": "python",
   "pygments_lexer": "ipython3",
   "version": "3.7.12"
  }
 },
 "nbformat": 4,
 "nbformat_minor": 5
}
